{
 "cells": [
  {
   "cell_type": "markdown",
   "metadata": {},
   "source": [
    "### tp2"
   ]
  },
  {
   "cell_type": "markdown",
   "metadata": {},
   "source": [
    "* Coucou tiret\n",
    "mdrlol\n",
    "$$\\sum_{i=0}^{20}x^2$$"
   ]
  },
  {
   "cell_type": "code",
   "execution_count": 3,
   "metadata": {},
   "outputs": [],
   "source": [
    "import numpy as np\n",
    "import numpy.random as loi\n",
    "import scipy.stats as loiT\n",
    "import matplotlib.pyplot as plt\n",
    "from math import sqrt, pi, exp"
   ]
  },
  {
   "cell_type": "code",
   "execution_count": 6,
   "metadata": {},
   "outputs": [],
   "source": [
    "a = loi.uniform(10, 20, size=1000)\n",
    "b = loi.uniform(10, 20, size=10000)\n",
    "c = loi.uniform(10, 20, size=100000)"
   ]
  },
  {
   "cell_type": "code",
   "execution_count": 7,
   "metadata": {},
   "outputs": [
    {
     "data": {
      "text/plain": [
       "8.620170865215089"
      ]
     },
     "execution_count": 7,
     "metadata": {},
     "output_type": "execute_result"
    }
   ],
   "source": [
    "np.var(a)"
   ]
  },
  {
   "cell_type": "code",
   "execution_count": 8,
   "metadata": {},
   "outputs": [
    {
     "data": {
      "text/plain": [
       "8.277631767548481"
      ]
     },
     "execution_count": 8,
     "metadata": {},
     "output_type": "execute_result"
    }
   ],
   "source": [
    "np.var(b)"
   ]
  },
  {
   "cell_type": "code",
   "execution_count": 9,
   "metadata": {},
   "outputs": [
    {
     "data": {
      "text/plain": [
       "8.350083918394187"
      ]
     },
     "execution_count": 9,
     "metadata": {},
     "output_type": "execute_result"
    }
   ],
   "source": [
    "np.var(c)"
   ]
  },
  {
   "cell_type": "code",
   "execution_count": 15,
   "metadata": {},
   "outputs": [
    {
     "name": "stdout",
     "output_type": "stream",
     "text": [
      "14.902101347002095  |  15.013453911296924  |  15.02380988683367\n"
     ]
    }
   ],
   "source": [
    "print(np.mean(a), \" | \", np.mean(b), \" | \", np.mean(c))"
   ]
  },
  {
   "cell_type": "code",
   "execution_count": 26,
   "metadata": {},
   "outputs": [
    {
     "name": "stdout",
     "output_type": "stream",
     "text": [
      "15.0\n",
      "8.333333333333334\n"
     ]
    }
   ],
   "source": [
    "densite = 1 / (20 - 10)\n",
    "esp_th = (10 + 20) / 2\n",
    "print(esp_th)\n",
    "var_th = (20 - 10)**2 / 12\n",
    "print(var_th)"
   ]
  },
  {
   "cell_type": "code",
   "execution_count": 35,
   "metadata": {},
   "outputs": [],
   "source": [
    "# 4.a.\n",
    "n_a = loi.normal(0, 1, size=1000)\n",
    "n_b = loi.normal(0, 1, size=10000)\n",
    "n_c = loi.normal(0, 1, size=100000)"
   ]
  },
  {
   "cell_type": "code",
   "execution_count": 40,
   "metadata": {},
   "outputs": [
    {
     "name": "stdout",
     "output_type": "stream",
     "text": [
      "0.9911162857904345  |  0.982304265474278  |  1.0017825688880215\n",
      "variance théorique = 1\n",
      "-0.012759149454019464  |  0.006223571495477751  |  -0.00011823658605747482\n",
      "moyenne théorique = 0\n"
     ]
    }
   ],
   "source": [
    "print(np.var(n_a), \" | \", np.var(n_b), \" | \", np.var(n_c))\n",
    "print(\"variance théorique = 1\")\n",
    "print(np.mean(n_a), \" | \", np.mean(n_b), \" | \", np.mean(n_c))\n",
    "print(\"moyenne théorique = 0\")"
   ]
  },
  {
   "cell_type": "code",
   "execution_count": 42,
   "metadata": {},
   "outputs": [],
   "source": [
    "# 4.b.\n",
    "e_a = loi.exponential(1 / 0.5, size=1000)\n",
    "e_b = loi.exponential(1 / 0.5, size=10000)\n",
    "e_c = loi.exponential(1 / 0.5, size=100000)"
   ]
  },
  {
   "cell_type": "code",
   "execution_count": 43,
   "metadata": {},
   "outputs": [
    {
     "name": "stdout",
     "output_type": "stream",
     "text": [
      "3.523557878566814  |  4.055904151176283  |  4.056740039033487\n",
      "variance théorique =  4.0\n",
      "1.9129348567955633  |  2.015478229579742  |  2.002672075870385\n",
      "moyenne théorique =  2.0\n"
     ]
    }
   ],
   "source": [
    "print(np.var(e_a), \" | \", np.var(e_b), \" | \", np.var(e_c))\n",
    "print(\"variance théorique = \", 1 / (0.5*0.5))\n",
    "print(np.mean(e_a), \" | \", np.mean(e_b), \" | \", np.mean(e_c))\n",
    "print(\"moyenne théorique = \", 1 / 0.5)"
   ]
  },
  {
   "cell_type": "markdown",
   "metadata": {},
   "source": [
    "## Exercice 3"
   ]
  },
  {
   "cell_type": "code",
   "execution_count": 99,
   "metadata": {},
   "outputs": [],
   "source": [
    "X = loi.normal(0, 1, size=1000)\n",
    "Y = loi.uniform(10, 20, size=1000)\n",
    "Z = loi.uniform(0, 1, size=1000)"
   ]
  },
  {
   "cell_type": "code",
   "execution_count": 100,
   "metadata": {},
   "outputs": [
    {
     "name": "stdout",
     "output_type": "stream",
     "text": [
      "[[1.00174744 0.10143786]\n",
      " [0.10143786 8.02024369]] \n",
      "\n",
      " [[1.00174744 0.01130255]\n",
      " [0.01130255 0.08088103]] \n",
      "\n",
      " [[ 8.02024369 -0.02696676]\n",
      " [-0.02696676  0.08088103]]\n"
     ]
    }
   ],
   "source": [
    "print(np.cov(X, Y), \"\\n\\n\", np.cov(X, Z), \"\\n\\n\", np.cov(Y, Z))"
   ]
  },
  {
   "cell_type": "markdown",
   "metadata": {},
   "source": [
    "## Exercice 4"
   ]
  },
  {
   "cell_type": "code",
   "execution_count": 65,
   "metadata": {},
   "outputs": [
    {
     "name": "stdout",
     "output_type": "stream",
     "text": [
      "[[1.         0.34030276]\n",
      " [0.34030276 1.        ]] \n",
      "\n",
      " [[1.         0.98230662]\n",
      " [0.98230662 1.        ]] \n",
      "\n",
      " [[1.        0.9810007]\n",
      " [0.9810007 1.       ]]\n"
     ]
    }
   ],
   "source": [
    "# np.corrcoef()\n",
    "\n",
    "print(np.corrcoef(X, X+Y), \"\\n\\n\", np.corrcoef(X, X*Y), \"\\n\\n\", np.corrcoef(2*X + Y, 3*X + Y))"
   ]
  },
  {
   "cell_type": "markdown",
   "metadata": {},
   "source": [
    "## Exercice 5"
   ]
  },
  {
   "cell_type": "code",
   "execution_count": 107,
   "metadata": {},
   "outputs": [],
   "source": [
    "X = loi.uniform(0, 9, size=20)\n",
    "Y = loi.uniform(0, 9, size=20)"
   ]
  },
  {
   "cell_type": "code",
   "execution_count": 108,
   "metadata": {},
   "outputs": [
    {
     "data": {
      "text/plain": [
       "<matplotlib.legend.Legend at 0x7fad1f7507f0>"
      ]
     },
     "execution_count": 108,
     "metadata": {},
     "output_type": "execute_result"
    },
    {
     "data": {
      "image/png": "[encoded data removed]",
      "text/plain": [
       "<Figure size 432x288 with 1 Axes>"
      ]
     },
     "metadata": {
      "needs_background": "light"
     },
     "output_type": "display_data"
    }
   ],
   "source": [
    "plt.figure()\n",
    "plt.plot(X, Y, 'x', color='black', label='X')\n",
    "plt.title('Ligne de régression')\n",
    "plt.xlabel('')\n",
    "plt.ylabel('')\n",
    "plt.legend()"
   ]
  },
  {
   "cell_type": "code",
   "execution_count": 109,
   "metadata": {},
   "outputs": [],
   "source": [
    "mean_X = np.mean(X)\n",
    "mean_Y = np.mean(Y)\n",
    "var_X = np.var(X)\n",
    "cov_X_Y = np.cov(X, Y)"
   ]
  },
  {
   "cell_type": "code",
   "execution_count": 116,
   "metadata": {},
   "outputs": [
    {
     "data": {
      "text/plain": [
       "<matplotlib.legend.Legend at 0x7fad1f589670>"
      ]
     },
     "execution_count": 116,
     "metadata": {},
     "output_type": "execute_result"
    },
    {
     "data": {
      "image/png": "[encoded data removed]",
      "text/plain": [
       "<Figure size 432x288 with 1 Axes>"
      ]
     },
     "metadata": {
      "needs_background": "light"
     },
     "output_type": "display_data"
    }
   ],
   "source": [
    "# 4.\n",
    "vec = np.arange(0, 10)\n",
    "y_f = (cov_X_Y[0][1] / var_X) * (vec - mean_X) + mean_Y\n",
    "plt.figure()\n",
    "plt.plot(vec, y_f, 'r', label='droite')\n",
    "plt.title('Ligne de régression')\n",
    "plt.xlabel('x')\n",
    "plt.ylabel('y')\n",
    "plt.legend()"
   ]
  },
  {
   "cell_type": "code",
   "execution_count": 117,
   "metadata": {},
   "outputs": [],
   "source": [
    "def ligne_regression(borne_min, borne_sup, size):\n",
    "    X = loi.uniform(borne_min, borne_sup, size)\n",
    "    Y = loi.uniform(borne_min, borne_sup, size)\n",
    "    mean_X = np.mean(X)\n",
    "    mean_Y = np.mean(Y)\n",
    "    var_X = np.var(X)\n",
    "    cov_X_Y = np.cov(X, Y)\n",
    "    x = np.arange(borne_min, borne_sup)\n",
    "    y = (cov_X_Y[0][1] / var_X) * (x - mean_X) + mean_Y\n",
    "    return x, y"
   ]
  },
  {
   "cell_type": "code",
   "execution_count": 118,
   "metadata": {},
   "outputs": [
    {
     "data": {
      "text/plain": [
       "(array([0, 1, 2, 3, 4, 5, 6, 7, 8]),\n",
       " array([6.7214003 , 6.67276407, 6.62412783, 6.5754916 , 6.52685536,\n",
       "        6.47821912, 6.42958289, 6.38094665, 6.33231042]))"
      ]
     },
     "execution_count": 118,
     "metadata": {},
     "output_type": "execute_result"
    }
   ],
   "source": [
    "ligne_regression(0, 9, 20)"
   ]
  },
  {
   "cell_type": "code",
   "execution_count": null,
   "metadata": {},
   "outputs": [],
   "source": []
  }
 ],
 "metadata": {
  "kernelspec": {
   "display_name": "Python 3",
   "language": "python",
   "name": "python3"
  },
  "language_info": {
   "codemirror_mode": {
    "name": "ipython",
    "version": 3
   },
   "file_extension": ".py",
   "mimetype": "text/x-python",
   "name": "python",
   "nbconvert_exporter": "python",
   "pygments_lexer": "ipython3",
   "version": "3.8.3"
  }
 },
 "nbformat": 4,
 "nbformat_minor": 4
}
